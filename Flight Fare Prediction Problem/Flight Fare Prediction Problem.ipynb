{
 "cells": [
  {
   "cell_type": "markdown",
   "metadata": {},
   "source": [
    "# Flight Fare Prediction Problem:\n",
    "\n",
    "---\n",
    "\n",
    "- **What is an Air Fare?**<br>\n",
    "The airfare is the price that you pay to travel on an airplane. The fare may be one-way or round-trip. The price consists of a base fare plus the regular taxes and fees.\n",
    "\n",
    "- **What are the main types of airfares?**<br>\n",
    "There are two main types of fares, published airfares and unpublished airfares.\n",
    "\n",
    "---\n",
    "\n",
    "**<center>In solution code we'll be using ML Model to predict the Flight Fare based on relevant features.</center>**\n",
    "\n",
    "---"
   ]
  },
  {
   "cell_type": "code",
   "execution_count": 1,
   "metadata": {},
   "outputs": [],
   "source": [
    "## importing all required libraries...\n",
    "import pandas as pd\n",
    "import numpy as np\n",
    "import matplotlib.pyplot as plt\n",
    "import seaborn as sns\n",
    "\n",
    "from sklearn import metrics"
   ]
  },
  {
   "cell_type": "code",
   "execution_count": 2,
   "metadata": {},
   "outputs": [
    {
     "data": {
      "text/html": [
       "<div>\n",
       "<style scoped>\n",
       "    .dataframe tbody tr th:only-of-type {\n",
       "        vertical-align: middle;\n",
       "    }\n",
       "\n",
       "    .dataframe tbody tr th {\n",
       "        vertical-align: top;\n",
       "    }\n",
       "\n",
       "    .dataframe thead th {\n",
       "        text-align: right;\n",
       "    }\n",
       "</style>\n",
       "<table border=\"1\" class=\"dataframe\">\n",
       "  <thead>\n",
       "    <tr style=\"text-align: right;\">\n",
       "      <th></th>\n",
       "      <th>Airline</th>\n",
       "      <th>Date_of_Journey</th>\n",
       "      <th>Source</th>\n",
       "      <th>Destination</th>\n",
       "      <th>Route</th>\n",
       "      <th>Dep_Time</th>\n",
       "      <th>Arrival_Time</th>\n",
       "      <th>Duration</th>\n",
       "      <th>Total_Stops</th>\n",
       "      <th>Additional_Info</th>\n",
       "      <th>Price</th>\n",
       "    </tr>\n",
       "  </thead>\n",
       "  <tbody>\n",
       "    <tr>\n",
       "      <th>10678</th>\n",
       "      <td>Air Asia</td>\n",
       "      <td>9/04/2019</td>\n",
       "      <td>Kolkata</td>\n",
       "      <td>Banglore</td>\n",
       "      <td>CCU → BLR</td>\n",
       "      <td>19:55</td>\n",
       "      <td>22:25</td>\n",
       "      <td>2h 30m</td>\n",
       "      <td>non-stop</td>\n",
       "      <td>No info</td>\n",
       "      <td>4107</td>\n",
       "    </tr>\n",
       "    <tr>\n",
       "      <th>10679</th>\n",
       "      <td>Air India</td>\n",
       "      <td>27/04/2019</td>\n",
       "      <td>Kolkata</td>\n",
       "      <td>Banglore</td>\n",
       "      <td>CCU → BLR</td>\n",
       "      <td>20:45</td>\n",
       "      <td>23:20</td>\n",
       "      <td>2h 35m</td>\n",
       "      <td>non-stop</td>\n",
       "      <td>No info</td>\n",
       "      <td>4145</td>\n",
       "    </tr>\n",
       "    <tr>\n",
       "      <th>10680</th>\n",
       "      <td>Jet Airways</td>\n",
       "      <td>27/04/2019</td>\n",
       "      <td>Banglore</td>\n",
       "      <td>Delhi</td>\n",
       "      <td>BLR → DEL</td>\n",
       "      <td>08:20</td>\n",
       "      <td>11:20</td>\n",
       "      <td>3h</td>\n",
       "      <td>non-stop</td>\n",
       "      <td>No info</td>\n",
       "      <td>7229</td>\n",
       "    </tr>\n",
       "    <tr>\n",
       "      <th>10681</th>\n",
       "      <td>Vistara</td>\n",
       "      <td>01/03/2019</td>\n",
       "      <td>Banglore</td>\n",
       "      <td>New Delhi</td>\n",
       "      <td>BLR → DEL</td>\n",
       "      <td>11:30</td>\n",
       "      <td>14:10</td>\n",
       "      <td>2h 40m</td>\n",
       "      <td>non-stop</td>\n",
       "      <td>No info</td>\n",
       "      <td>12648</td>\n",
       "    </tr>\n",
       "    <tr>\n",
       "      <th>10682</th>\n",
       "      <td>Air India</td>\n",
       "      <td>9/05/2019</td>\n",
       "      <td>Delhi</td>\n",
       "      <td>Cochin</td>\n",
       "      <td>DEL → GOI → BOM → COK</td>\n",
       "      <td>10:55</td>\n",
       "      <td>19:15</td>\n",
       "      <td>8h 20m</td>\n",
       "      <td>2 stops</td>\n",
       "      <td>No info</td>\n",
       "      <td>11753</td>\n",
       "    </tr>\n",
       "  </tbody>\n",
       "</table>\n",
       "</div>"
      ],
      "text/plain": [
       "           Airline Date_of_Journey    Source Destination  \\\n",
       "10678     Air Asia       9/04/2019   Kolkata    Banglore   \n",
       "10679    Air India      27/04/2019   Kolkata    Banglore   \n",
       "10680  Jet Airways      27/04/2019  Banglore       Delhi   \n",
       "10681      Vistara      01/03/2019  Banglore   New Delhi   \n",
       "10682    Air India       9/05/2019     Delhi      Cochin   \n",
       "\n",
       "                       Route Dep_Time Arrival_Time Duration Total_Stops  \\\n",
       "10678              CCU → BLR    19:55        22:25   2h 30m    non-stop   \n",
       "10679              CCU → BLR    20:45        23:20   2h 35m    non-stop   \n",
       "10680              BLR → DEL    08:20        11:20       3h    non-stop   \n",
       "10681              BLR → DEL    11:30        14:10   2h 40m    non-stop   \n",
       "10682  DEL → GOI → BOM → COK    10:55        19:15   8h 20m     2 stops   \n",
       "\n",
       "      Additional_Info  Price  \n",
       "10678         No info   4107  \n",
       "10679         No info   4145  \n",
       "10680         No info   7229  \n",
       "10681         No info  12648  \n",
       "10682         No info  11753  "
      ]
     },
     "execution_count": 2,
     "metadata": {},
     "output_type": "execute_result"
    }
   ],
   "source": [
    "## Loading data...\n",
    "data_raw = pd.read_excel('Data_Train.xlsx')\n",
    "data_raw.tail()"
   ]
  },
  {
   "cell_type": "code",
   "execution_count": 4,
   "metadata": {},
   "outputs": [
    {
     "name": "stdout",
     "output_type": "stream",
     "text": [
      "Dimensions of raw data is : (10683, 11)\n"
     ]
    }
   ],
   "source": [
    "print(\"Dimensions of raw data is :\" , data_raw.shape)"
   ]
  },
  {
   "cell_type": "code",
   "execution_count": 5,
   "metadata": {},
   "outputs": [],
   "source": [
    "## Copy raw data for preprocessing...\n",
    "data = data_raw.copy()"
   ]
  },
  {
   "cell_type": "markdown",
   "metadata": {},
   "source": [
    "## Exploratory Data Analysis:"
   ]
  },
  {
   "cell_type": "code",
   "execution_count": 6,
   "metadata": {},
   "outputs": [],
   "source": [
    "dt = data_raw.copy() ## Copy train data for EDA..."
   ]
  },
  {
   "cell_type": "markdown",
   "metadata": {},
   "source": [
    "#### Airline:"
   ]
  },
  {
   "cell_type": "code",
   "execution_count": 7,
   "metadata": {},
   "outputs": [
    {
     "data": {
      "text/plain": [
       "<AxesSubplot:xlabel='count', ylabel='Airline'>"
      ]
     },
     "execution_count": 7,
     "metadata": {},
     "output_type": "execute_result"
    },
    {
     "data": {
      "image/png": "[encoded data removed]",
      "text/plain": [
       "<Figure size 770x440 with 1 Axes>"
      ]
     },
     "metadata": {
      "needs_background": "light"
     },
     "output_type": "display_data"
    }
   ],
   "source": [
    "plt.figure(dpi = 110 , figsize = (7,4))\n",
    "sns.countplot(y = dt['Airline'] , palette = 'icefire' , order = dt['Airline'].value_counts().head(9).index)"
   ]
  },
  {
   "cell_type": "markdown",
   "metadata": {},
   "source": [
    "- \"Jet Airways\" is the most highly choosen air service by the people.\n",
    "- The other 2 major service providers choosen are \"Indigo\" and \"Air India\".\n",
    "- \"Trujet\" being new in the market is very less choosen."
   ]
  },
  {
   "cell_type": "markdown",
   "metadata": {},
   "source": [
    "#### Source:"
   ]
  },
  {
   "cell_type": "code",
   "execution_count": 8,
   "metadata": {},
   "outputs": [
    {
     "data": {
      "text/plain": [
       "<AxesSubplot:xlabel='count', ylabel='Source'>"
      ]
     },
     "execution_count": 8,
     "metadata": {},
     "output_type": "execute_result"
    },
    {
     "data": {
      "image/png": "[encoded data removed]",
      "text/plain": [
       "<Figure size 770x220 with 1 Axes>"
      ]
     },
     "metadata": {
      "needs_background": "light"
     },
     "output_type": "display_data"
    }
   ],
   "source": [
    "plt.figure(dpi = 110 , figsize = (7,2))\n",
    "sns.countplot(y = dt['Source'] , palette = 'plasma' , order = dt['Source'].value_counts().index)"
   ]
  },
  {
   "cell_type": "markdown",
   "metadata": {},
   "source": [
    "- Majority of flights start from **\"Delhi\" and \"Kolkata\"**."
   ]
  },
  {
   "cell_type": "markdown",
   "metadata": {},
   "source": [
    "#### Destination:"
   ]
  },
  {
   "cell_type": "code",
   "execution_count": 9,
   "metadata": {},
   "outputs": [
    {
     "data": {
      "text/plain": [
       "<AxesSubplot:xlabel='count', ylabel='Destination'>"
      ]
     },
     "execution_count": 9,
     "metadata": {},
     "output_type": "execute_result"
    },
    {
     "data": {
      "image/png": "[encoded data removed]",
      "text/plain": [
       "<Figure size 770x220 with 1 Axes>"
      ]
     },
     "metadata": {
      "needs_background": "light"
     },
     "output_type": "display_data"
    }
   ],
   "source": [
    "plt.figure(dpi = 110 , figsize = (7,2))\n",
    "sns.countplot(y = dt['Destination'] , palette = 'rainbow' , order = dt['Destination'].value_counts().index)"
   ]
  },
  {
   "cell_type": "markdown",
   "metadata": {},
   "source": [
    "- Majority of flights are landed in **\"Cochin\" and \"Bangalore\"**."
   ]
  },
  {
   "cell_type": "markdown",
   "metadata": {},
   "source": [
    "#### Total Number of stops in a journey:"
   ]
  },
  {
   "cell_type": "code",
   "execution_count": 10,
   "metadata": {},
   "outputs": [
    {
     "data": {
      "text/plain": [
       "<AxesSubplot:xlabel='count', ylabel='Total_Stops'>"
      ]
     },
     "execution_count": 10,
     "metadata": {},
     "output_type": "execute_result"
    },
    {
     "data": {
      "image/png": "[encoded data removed]",
      "text/plain": [
       "<Figure size 770x220 with 1 Axes>"
      ]
     },
     "metadata": {
      "needs_background": "light"
     },
     "output_type": "display_data"
    }
   ],
   "source": [
    "plt.figure(dpi = 110 , figsize = (7,2))\n",
    "sns.countplot(y = dt['Total_Stops'] , palette = 'Blues' , order = dt['Total_Stops'].value_counts().index)"
   ]
  },
  {
   "cell_type": "markdown",
   "metadata": {},
   "source": [
    "- Majority of flights take ony **1 Stop** during the journey.\n",
    "- Also there are many flights which go non-stop. Most of these flight are short distance flights."
   ]
  },
  {
   "cell_type": "markdown",
   "metadata": {},
   "source": [
    "## Feature Engineering:"
   ]
  },
  {
   "cell_type": "markdown",
   "metadata": {},
   "source": [
    "##### Flight Duration:"
   ]
  },
  {
   "cell_type": "code",
   "execution_count": 11,
   "metadata": {
    "scrolled": true
   },
   "outputs": [
    {
     "name": "stderr",
     "output_type": "stream",
     "text": [
      "C:\\Anaconda\\lib\\site-packages\\ipykernel_launcher.py:12: SettingWithCopyWarning: \n",
      "A value is trying to be set on a copy of a slice from a DataFrame\n",
      "\n",
      "See the caveats in the documentation: https://pandas.pydata.org/pandas-docs/stable/user_guide/indexing.html#returning-a-view-versus-a-copy\n",
      "  if sys.path[0] == '':\n",
      "C:\\Anaconda\\lib\\site-packages\\ipykernel_launcher.py:16: SettingWithCopyWarning: \n",
      "A value is trying to be set on a copy of a slice from a DataFrame\n",
      "\n",
      "See the caveats in the documentation: https://pandas.pydata.org/pandas-docs/stable/user_guide/indexing.html#returning-a-view-versus-a-copy\n",
      "  app.launch_new_instance()\n"
     ]
    }
   ],
   "source": [
    "## Creating new feature based on \"Duration\" Variable.....\n",
    "## In updated feature only Duration of flight in minutes will be mentioned....\n",
    "data['Duration_in_mins_updated'] = data['Duration'].astype('str')\n",
    "\n",
    "for i in range(data.shape[0]):\n",
    "    temp = data['Duration_in_mins_updated'][i]\n",
    "    temp = temp.split()\n",
    "    if len(temp) == 2:\n",
    "        temp1 = temp[0]\n",
    "        temp2 = temp[1]\n",
    "        cont = int(temp1[:-1])*60 + int(temp2[:-1])\n",
    "        data['Duration_in_mins_updated'][i] = str(cont)\n",
    "    elif len(temp) == 1:\n",
    "        temp1 = temp[0]\n",
    "        cont = int(temp1[:-1])*60\n",
    "        data['Duration_in_mins_updated'][i] = str(cont)\n",
    "        \n",
    "data['Duration_in_mins_updated'] = data['Duration_in_mins_updated'].astype('int64')"
   ]
  },
  {
   "cell_type": "markdown",
   "metadata": {},
   "source": [
    "##### Flight Route:"
   ]
  },
  {
   "cell_type": "code",
   "execution_count": 12,
   "metadata": {
    "scrolled": true
   },
   "outputs": [
    {
     "name": "stderr",
     "output_type": "stream",
     "text": [
      "C:\\Anaconda\\lib\\site-packages\\ipykernel_launcher.py:10: SettingWithCopyWarning: \n",
      "A value is trying to be set on a copy of a slice from a DataFrame\n",
      "\n",
      "See the caveats in the documentation: https://pandas.pydata.org/pandas-docs/stable/user_guide/indexing.html#returning-a-view-versus-a-copy\n",
      "  # Remove the CWD from sys.path while we load stuff.\n"
     ]
    }
   ],
   "source": [
    "## Creating new feature based on \"Route\" Variable.....\n",
    "## In updated feature only Source and Destination airport will be mentioned....\n",
    "data['Route_updated'] = data['Route'].astype('str')\n",
    "\n",
    "for i in range(data.shape[0]):\n",
    "    temp = data['Route_updated'][i]\n",
    "    temp1 = temp[0:5]\n",
    "    temp2 = temp[-3:]\n",
    "    temp = temp1 + temp2\n",
    "    data['Route_updated'][i] = temp"
   ]
  },
  {
   "cell_type": "markdown",
   "metadata": {},
   "source": [
    "##### Date of Journey:"
   ]
  },
  {
   "cell_type": "code",
   "execution_count": 13,
   "metadata": {},
   "outputs": [],
   "source": [
    "## here we converting the Date Column to time stamp Format. so, that we can extract information...\n",
    "## We'll be needing the weekday info. which we'll get from here.....\n",
    "dates = pd.to_datetime(data['Date_of_Journey'] , format = '%d/%m/%Y')\n",
    "data['Date_of_Journey'] = dates\n",
    "\n",
    "## Creating the list of weekdays from the given dates....\n",
    "weekdays = []\n",
    "\n",
    "for i in range(data.shape[0]):\n",
    "    weekdays.append(data['Date_of_Journey'][i].weekday())\n",
    "\n",
    "## adding the created list to data frame....\n",
    "data['Weekday_of_journey'] = weekdays"
   ]
  },
  {
   "cell_type": "markdown",
   "metadata": {},
   "source": [
    "### Dropping Null Entries:"
   ]
  },
  {
   "cell_type": "code",
   "execution_count": 14,
   "metadata": {},
   "outputs": [],
   "source": [
    "## We have only 2 NAN entries in our data....\n",
    "## We'll apply foreward fill technique to not loose that data points....\n",
    "data = data.fillna(method = 'ffill')"
   ]
  },
  {
   "cell_type": "code",
   "execution_count": 15,
   "metadata": {},
   "outputs": [
    {
     "data": {
      "text/html": [
       "<div>\n",
       "<style scoped>\n",
       "    .dataframe tbody tr th:only-of-type {\n",
       "        vertical-align: middle;\n",
       "    }\n",
       "\n",
       "    .dataframe tbody tr th {\n",
       "        vertical-align: top;\n",
       "    }\n",
       "\n",
       "    .dataframe thead th {\n",
       "        text-align: right;\n",
       "    }\n",
       "</style>\n",
       "<table border=\"1\" class=\"dataframe\">\n",
       "  <thead>\n",
       "    <tr style=\"text-align: right;\">\n",
       "      <th></th>\n",
       "      <th>Airline</th>\n",
       "      <th>Date_of_Journey</th>\n",
       "      <th>Source</th>\n",
       "      <th>Destination</th>\n",
       "      <th>Route</th>\n",
       "      <th>Dep_Time</th>\n",
       "      <th>Arrival_Time</th>\n",
       "      <th>Duration</th>\n",
       "      <th>Total_Stops</th>\n",
       "      <th>Additional_Info</th>\n",
       "      <th>Price</th>\n",
       "      <th>Duration_in_mins_updated</th>\n",
       "      <th>Route_updated</th>\n",
       "      <th>Weekday_of_journey</th>\n",
       "    </tr>\n",
       "  </thead>\n",
       "  <tbody>\n",
       "    <tr>\n",
       "      <th>0</th>\n",
       "      <td>IndiGo</td>\n",
       "      <td>2019-03-24</td>\n",
       "      <td>Banglore</td>\n",
       "      <td>New Delhi</td>\n",
       "      <td>BLR → DEL</td>\n",
       "      <td>22:20</td>\n",
       "      <td>01:10 22 Mar</td>\n",
       "      <td>2h 50m</td>\n",
       "      <td>non-stop</td>\n",
       "      <td>No info</td>\n",
       "      <td>3897</td>\n",
       "      <td>170</td>\n",
       "      <td>BLR →DEL</td>\n",
       "      <td>6</td>\n",
       "    </tr>\n",
       "    <tr>\n",
       "      <th>1</th>\n",
       "      <td>Air India</td>\n",
       "      <td>2019-05-01</td>\n",
       "      <td>Kolkata</td>\n",
       "      <td>Banglore</td>\n",
       "      <td>CCU → IXR → BBI → BLR</td>\n",
       "      <td>05:50</td>\n",
       "      <td>13:15</td>\n",
       "      <td>7h 25m</td>\n",
       "      <td>2 stops</td>\n",
       "      <td>No info</td>\n",
       "      <td>7662</td>\n",
       "      <td>445</td>\n",
       "      <td>CCU →BLR</td>\n",
       "      <td>2</td>\n",
       "    </tr>\n",
       "    <tr>\n",
       "      <th>2</th>\n",
       "      <td>Jet Airways</td>\n",
       "      <td>2019-06-09</td>\n",
       "      <td>Delhi</td>\n",
       "      <td>Cochin</td>\n",
       "      <td>DEL → LKO → BOM → COK</td>\n",
       "      <td>09:25</td>\n",
       "      <td>04:25 10 Jun</td>\n",
       "      <td>19h</td>\n",
       "      <td>2 stops</td>\n",
       "      <td>No info</td>\n",
       "      <td>13882</td>\n",
       "      <td>1140</td>\n",
       "      <td>DEL →COK</td>\n",
       "      <td>6</td>\n",
       "    </tr>\n",
       "    <tr>\n",
       "      <th>3</th>\n",
       "      <td>IndiGo</td>\n",
       "      <td>2019-05-12</td>\n",
       "      <td>Kolkata</td>\n",
       "      <td>Banglore</td>\n",
       "      <td>CCU → NAG → BLR</td>\n",
       "      <td>18:05</td>\n",
       "      <td>23:30</td>\n",
       "      <td>5h 25m</td>\n",
       "      <td>1 stop</td>\n",
       "      <td>No info</td>\n",
       "      <td>6218</td>\n",
       "      <td>325</td>\n",
       "      <td>CCU →BLR</td>\n",
       "      <td>6</td>\n",
       "    </tr>\n",
       "    <tr>\n",
       "      <th>4</th>\n",
       "      <td>IndiGo</td>\n",
       "      <td>2019-03-01</td>\n",
       "      <td>Banglore</td>\n",
       "      <td>New Delhi</td>\n",
       "      <td>BLR → NAG → DEL</td>\n",
       "      <td>16:50</td>\n",
       "      <td>21:35</td>\n",
       "      <td>4h 45m</td>\n",
       "      <td>1 stop</td>\n",
       "      <td>No info</td>\n",
       "      <td>13302</td>\n",
       "      <td>285</td>\n",
       "      <td>BLR →DEL</td>\n",
       "      <td>4</td>\n",
       "    </tr>\n",
       "  </tbody>\n",
       "</table>\n",
       "</div>"
      ],
      "text/plain": [
       "       Airline Date_of_Journey    Source Destination                  Route  \\\n",
       "0       IndiGo      2019-03-24  Banglore   New Delhi              BLR → DEL   \n",
       "1    Air India      2019-05-01   Kolkata    Banglore  CCU → IXR → BBI → BLR   \n",
       "2  Jet Airways      2019-06-09     Delhi      Cochin  DEL → LKO → BOM → COK   \n",
       "3       IndiGo      2019-05-12   Kolkata    Banglore        CCU → NAG → BLR   \n",
       "4       IndiGo      2019-03-01  Banglore   New Delhi        BLR → NAG → DEL   \n",
       "\n",
       "  Dep_Time  Arrival_Time Duration Total_Stops Additional_Info  Price  \\\n",
       "0    22:20  01:10 22 Mar   2h 50m    non-stop         No info   3897   \n",
       "1    05:50         13:15   7h 25m     2 stops         No info   7662   \n",
       "2    09:25  04:25 10 Jun      19h     2 stops         No info  13882   \n",
       "3    18:05         23:30   5h 25m      1 stop         No info   6218   \n",
       "4    16:50         21:35   4h 45m      1 stop         No info  13302   \n",
       "\n",
       "   Duration_in_mins_updated Route_updated  Weekday_of_journey  \n",
       "0                       170      BLR →DEL                   6  \n",
       "1                       445      CCU →BLR                   2  \n",
       "2                      1140      DEL →COK                   6  \n",
       "3                       325      CCU →BLR                   6  \n",
       "4                       285      BLR →DEL                   4  "
      ]
     },
     "execution_count": 15,
     "metadata": {},
     "output_type": "execute_result"
    }
   ],
   "source": [
    "data.head()"
   ]
  },
  {
   "cell_type": "markdown",
   "metadata": {},
   "source": [
    "### Creating Dummy Variables for Categorical Features:"
   ]
  },
  {
   "cell_type": "code",
   "execution_count": 16,
   "metadata": {},
   "outputs": [
    {
     "data": {
      "text/html": [
       "<div>\n",
       "<style scoped>\n",
       "    .dataframe tbody tr th:only-of-type {\n",
       "        vertical-align: middle;\n",
       "    }\n",
       "\n",
       "    .dataframe tbody tr th {\n",
       "        vertical-align: top;\n",
       "    }\n",
       "\n",
       "    .dataframe thead th {\n",
       "        text-align: right;\n",
       "    }\n",
       "</style>\n",
       "<table border=\"1\" class=\"dataframe\">\n",
       "  <thead>\n",
       "    <tr style=\"text-align: right;\">\n",
       "      <th></th>\n",
       "      <th>Airline_Air India</th>\n",
       "      <th>Airline_GoAir</th>\n",
       "      <th>Airline_IndiGo</th>\n",
       "      <th>Airline_Jet Airways</th>\n",
       "      <th>Airline_Jet Airways Business</th>\n",
       "      <th>Airline_Multiple carriers</th>\n",
       "      <th>Airline_Multiple carriers Premium economy</th>\n",
       "      <th>Airline_SpiceJet</th>\n",
       "      <th>Airline_Trujet</th>\n",
       "      <th>Airline_Vistara</th>\n",
       "      <th>...</th>\n",
       "      <th>Destination_New Delhi</th>\n",
       "      <th>Route_updated_BOM →HYD</th>\n",
       "      <th>Route_updated_CCU →BLR</th>\n",
       "      <th>Route_updated_DEL →COK</th>\n",
       "      <th>Route_updated_MAA →CCU</th>\n",
       "      <th>Route_updated_nannan</th>\n",
       "      <th>Total_Stops_2 stops</th>\n",
       "      <th>Total_Stops_3 stops</th>\n",
       "      <th>Total_Stops_4 stops</th>\n",
       "      <th>Total_Stops_non-stop</th>\n",
       "    </tr>\n",
       "  </thead>\n",
       "  <tbody>\n",
       "    <tr>\n",
       "      <th>0</th>\n",
       "      <td>0</td>\n",
       "      <td>0</td>\n",
       "      <td>1</td>\n",
       "      <td>0</td>\n",
       "      <td>0</td>\n",
       "      <td>0</td>\n",
       "      <td>0</td>\n",
       "      <td>0</td>\n",
       "      <td>0</td>\n",
       "      <td>0</td>\n",
       "      <td>...</td>\n",
       "      <td>1</td>\n",
       "      <td>0</td>\n",
       "      <td>0</td>\n",
       "      <td>0</td>\n",
       "      <td>0</td>\n",
       "      <td>0</td>\n",
       "      <td>0</td>\n",
       "      <td>0</td>\n",
       "      <td>0</td>\n",
       "      <td>1</td>\n",
       "    </tr>\n",
       "    <tr>\n",
       "      <th>1</th>\n",
       "      <td>1</td>\n",
       "      <td>0</td>\n",
       "      <td>0</td>\n",
       "      <td>0</td>\n",
       "      <td>0</td>\n",
       "      <td>0</td>\n",
       "      <td>0</td>\n",
       "      <td>0</td>\n",
       "      <td>0</td>\n",
       "      <td>0</td>\n",
       "      <td>...</td>\n",
       "      <td>0</td>\n",
       "      <td>0</td>\n",
       "      <td>1</td>\n",
       "      <td>0</td>\n",
       "      <td>0</td>\n",
       "      <td>0</td>\n",
       "      <td>1</td>\n",
       "      <td>0</td>\n",
       "      <td>0</td>\n",
       "      <td>0</td>\n",
       "    </tr>\n",
       "    <tr>\n",
       "      <th>2</th>\n",
       "      <td>0</td>\n",
       "      <td>0</td>\n",
       "      <td>0</td>\n",
       "      <td>1</td>\n",
       "      <td>0</td>\n",
       "      <td>0</td>\n",
       "      <td>0</td>\n",
       "      <td>0</td>\n",
       "      <td>0</td>\n",
       "      <td>0</td>\n",
       "      <td>...</td>\n",
       "      <td>0</td>\n",
       "      <td>0</td>\n",
       "      <td>0</td>\n",
       "      <td>1</td>\n",
       "      <td>0</td>\n",
       "      <td>0</td>\n",
       "      <td>1</td>\n",
       "      <td>0</td>\n",
       "      <td>0</td>\n",
       "      <td>0</td>\n",
       "    </tr>\n",
       "    <tr>\n",
       "      <th>3</th>\n",
       "      <td>0</td>\n",
       "      <td>0</td>\n",
       "      <td>1</td>\n",
       "      <td>0</td>\n",
       "      <td>0</td>\n",
       "      <td>0</td>\n",
       "      <td>0</td>\n",
       "      <td>0</td>\n",
       "      <td>0</td>\n",
       "      <td>0</td>\n",
       "      <td>...</td>\n",
       "      <td>0</td>\n",
       "      <td>0</td>\n",
       "      <td>1</td>\n",
       "      <td>0</td>\n",
       "      <td>0</td>\n",
       "      <td>0</td>\n",
       "      <td>0</td>\n",
       "      <td>0</td>\n",
       "      <td>0</td>\n",
       "      <td>0</td>\n",
       "    </tr>\n",
       "    <tr>\n",
       "      <th>4</th>\n",
       "      <td>0</td>\n",
       "      <td>0</td>\n",
       "      <td>1</td>\n",
       "      <td>0</td>\n",
       "      <td>0</td>\n",
       "      <td>0</td>\n",
       "      <td>0</td>\n",
       "      <td>0</td>\n",
       "      <td>0</td>\n",
       "      <td>0</td>\n",
       "      <td>...</td>\n",
       "      <td>1</td>\n",
       "      <td>0</td>\n",
       "      <td>0</td>\n",
       "      <td>0</td>\n",
       "      <td>0</td>\n",
       "      <td>0</td>\n",
       "      <td>0</td>\n",
       "      <td>0</td>\n",
       "      <td>0</td>\n",
       "      <td>0</td>\n",
       "    </tr>\n",
       "  </tbody>\n",
       "</table>\n",
       "<p>5 rows × 29 columns</p>\n",
       "</div>"
      ],
      "text/plain": [
       "   Airline_Air India  Airline_GoAir  Airline_IndiGo  Airline_Jet Airways  \\\n",
       "0                  0              0               1                    0   \n",
       "1                  1              0               0                    0   \n",
       "2                  0              0               0                    1   \n",
       "3                  0              0               1                    0   \n",
       "4                  0              0               1                    0   \n",
       "\n",
       "   Airline_Jet Airways Business  Airline_Multiple carriers  \\\n",
       "0                             0                          0   \n",
       "1                             0                          0   \n",
       "2                             0                          0   \n",
       "3                             0                          0   \n",
       "4                             0                          0   \n",
       "\n",
       "   Airline_Multiple carriers Premium economy  Airline_SpiceJet  \\\n",
       "0                                          0                 0   \n",
       "1                                          0                 0   \n",
       "2                                          0                 0   \n",
       "3                                          0                 0   \n",
       "4                                          0                 0   \n",
       "\n",
       "   Airline_Trujet  Airline_Vistara  ...  Destination_New Delhi  \\\n",
       "0               0                0  ...                      1   \n",
       "1               0                0  ...                      0   \n",
       "2               0                0  ...                      0   \n",
       "3               0                0  ...                      0   \n",
       "4               0                0  ...                      1   \n",
       "\n",
       "   Route_updated_BOM →HYD  Route_updated_CCU →BLR  Route_updated_DEL →COK  \\\n",
       "0                       0                       0                       0   \n",
       "1                       0                       1                       0   \n",
       "2                       0                       0                       1   \n",
       "3                       0                       1                       0   \n",
       "4                       0                       0                       0   \n",
       "\n",
       "   Route_updated_MAA →CCU  Route_updated_nannan  Total_Stops_2 stops  \\\n",
       "0                       0                     0                    0   \n",
       "1                       0                     0                    1   \n",
       "2                       0                     0                    1   \n",
       "3                       0                     0                    0   \n",
       "4                       0                     0                    0   \n",
       "\n",
       "   Total_Stops_3 stops  Total_Stops_4 stops  Total_Stops_non-stop  \n",
       "0                    0                    0                     1  \n",
       "1                    0                    0                     0  \n",
       "2                    0                    0                     0  \n",
       "3                    0                    0                     0  \n",
       "4                    0                    0                     0  \n",
       "\n",
       "[5 rows x 29 columns]"
      ]
     },
     "execution_count": 16,
     "metadata": {},
     "output_type": "execute_result"
    }
   ],
   "source": [
    "cate = pd.get_dummies(data[['Airline' , 'Source' , 'Destination' , 'Route_updated' , 'Total_Stops']] , drop_first = True)\n",
    "cate.head()"
   ]
  },
  {
   "cell_type": "code",
   "execution_count": 17,
   "metadata": {},
   "outputs": [],
   "source": [
    "## Merging all the \"cate\" in main data frame...\n",
    "data = pd.concat([data , cate] , axis = 1)"
   ]
  },
  {
   "cell_type": "markdown",
   "metadata": {},
   "source": [
    "### Dropping Unwanted Features:"
   ]
  },
  {
   "cell_type": "code",
   "execution_count": 18,
   "metadata": {},
   "outputs": [],
   "source": [
    "data_preprocessed = data.drop(['Airline', 'Source', 'Destination', 'Date_of_Journey', 'Route', 'Route_updated', 'Dep_Time', \n",
    "                               'Arrival_Time', 'Total_Stops', 'Duration', 'Additional_Info'] , axis = 1)"
   ]
  },
  {
   "cell_type": "code",
   "execution_count": 19,
   "metadata": {},
   "outputs": [
    {
     "data": {
      "text/html": [
       "<div>\n",
       "<style scoped>\n",
       "    .dataframe tbody tr th:only-of-type {\n",
       "        vertical-align: middle;\n",
       "    }\n",
       "\n",
       "    .dataframe tbody tr th {\n",
       "        vertical-align: top;\n",
       "    }\n",
       "\n",
       "    .dataframe thead th {\n",
       "        text-align: right;\n",
       "    }\n",
       "</style>\n",
       "<table border=\"1\" class=\"dataframe\">\n",
       "  <thead>\n",
       "    <tr style=\"text-align: right;\">\n",
       "      <th></th>\n",
       "      <th>Price</th>\n",
       "      <th>Duration_in_mins_updated</th>\n",
       "      <th>Weekday_of_journey</th>\n",
       "      <th>Airline_Air India</th>\n",
       "      <th>Airline_GoAir</th>\n",
       "      <th>Airline_IndiGo</th>\n",
       "      <th>Airline_Jet Airways</th>\n",
       "      <th>Airline_Jet Airways Business</th>\n",
       "      <th>Airline_Multiple carriers</th>\n",
       "      <th>Airline_Multiple carriers Premium economy</th>\n",
       "      <th>...</th>\n",
       "      <th>Destination_New Delhi</th>\n",
       "      <th>Route_updated_BOM →HYD</th>\n",
       "      <th>Route_updated_CCU →BLR</th>\n",
       "      <th>Route_updated_DEL →COK</th>\n",
       "      <th>Route_updated_MAA →CCU</th>\n",
       "      <th>Route_updated_nannan</th>\n",
       "      <th>Total_Stops_2 stops</th>\n",
       "      <th>Total_Stops_3 stops</th>\n",
       "      <th>Total_Stops_4 stops</th>\n",
       "      <th>Total_Stops_non-stop</th>\n",
       "    </tr>\n",
       "  </thead>\n",
       "  <tbody>\n",
       "    <tr>\n",
       "      <th>0</th>\n",
       "      <td>3897</td>\n",
       "      <td>170</td>\n",
       "      <td>6</td>\n",
       "      <td>0</td>\n",
       "      <td>0</td>\n",
       "      <td>1</td>\n",
       "      <td>0</td>\n",
       "      <td>0</td>\n",
       "      <td>0</td>\n",
       "      <td>0</td>\n",
       "      <td>...</td>\n",
       "      <td>1</td>\n",
       "      <td>0</td>\n",
       "      <td>0</td>\n",
       "      <td>0</td>\n",
       "      <td>0</td>\n",
       "      <td>0</td>\n",
       "      <td>0</td>\n",
       "      <td>0</td>\n",
       "      <td>0</td>\n",
       "      <td>1</td>\n",
       "    </tr>\n",
       "    <tr>\n",
       "      <th>1</th>\n",
       "      <td>7662</td>\n",
       "      <td>445</td>\n",
       "      <td>2</td>\n",
       "      <td>1</td>\n",
       "      <td>0</td>\n",
       "      <td>0</td>\n",
       "      <td>0</td>\n",
       "      <td>0</td>\n",
       "      <td>0</td>\n",
       "      <td>0</td>\n",
       "      <td>...</td>\n",
       "      <td>0</td>\n",
       "      <td>0</td>\n",
       "      <td>1</td>\n",
       "      <td>0</td>\n",
       "      <td>0</td>\n",
       "      <td>0</td>\n",
       "      <td>1</td>\n",
       "      <td>0</td>\n",
       "      <td>0</td>\n",
       "      <td>0</td>\n",
       "    </tr>\n",
       "    <tr>\n",
       "      <th>2</th>\n",
       "      <td>13882</td>\n",
       "      <td>1140</td>\n",
       "      <td>6</td>\n",
       "      <td>0</td>\n",
       "      <td>0</td>\n",
       "      <td>0</td>\n",
       "      <td>1</td>\n",
       "      <td>0</td>\n",
       "      <td>0</td>\n",
       "      <td>0</td>\n",
       "      <td>...</td>\n",
       "      <td>0</td>\n",
       "      <td>0</td>\n",
       "      <td>0</td>\n",
       "      <td>1</td>\n",
       "      <td>0</td>\n",
       "      <td>0</td>\n",
       "      <td>1</td>\n",
       "      <td>0</td>\n",
       "      <td>0</td>\n",
       "      <td>0</td>\n",
       "    </tr>\n",
       "    <tr>\n",
       "      <th>3</th>\n",
       "      <td>6218</td>\n",
       "      <td>325</td>\n",
       "      <td>6</td>\n",
       "      <td>0</td>\n",
       "      <td>0</td>\n",
       "      <td>1</td>\n",
       "      <td>0</td>\n",
       "      <td>0</td>\n",
       "      <td>0</td>\n",
       "      <td>0</td>\n",
       "      <td>...</td>\n",
       "      <td>0</td>\n",
       "      <td>0</td>\n",
       "      <td>1</td>\n",
       "      <td>0</td>\n",
       "      <td>0</td>\n",
       "      <td>0</td>\n",
       "      <td>0</td>\n",
       "      <td>0</td>\n",
       "      <td>0</td>\n",
       "      <td>0</td>\n",
       "    </tr>\n",
       "    <tr>\n",
       "      <th>4</th>\n",
       "      <td>13302</td>\n",
       "      <td>285</td>\n",
       "      <td>4</td>\n",
       "      <td>0</td>\n",
       "      <td>0</td>\n",
       "      <td>1</td>\n",
       "      <td>0</td>\n",
       "      <td>0</td>\n",
       "      <td>0</td>\n",
       "      <td>0</td>\n",
       "      <td>...</td>\n",
       "      <td>1</td>\n",
       "      <td>0</td>\n",
       "      <td>0</td>\n",
       "      <td>0</td>\n",
       "      <td>0</td>\n",
       "      <td>0</td>\n",
       "      <td>0</td>\n",
       "      <td>0</td>\n",
       "      <td>0</td>\n",
       "      <td>0</td>\n",
       "    </tr>\n",
       "  </tbody>\n",
       "</table>\n",
       "<p>5 rows × 32 columns</p>\n",
       "</div>"
      ],
      "text/plain": [
       "   Price  Duration_in_mins_updated  Weekday_of_journey  Airline_Air India  \\\n",
       "0   3897                       170                   6                  0   \n",
       "1   7662                       445                   2                  1   \n",
       "2  13882                      1140                   6                  0   \n",
       "3   6218                       325                   6                  0   \n",
       "4  13302                       285                   4                  0   \n",
       "\n",
       "   Airline_GoAir  Airline_IndiGo  Airline_Jet Airways  \\\n",
       "0              0               1                    0   \n",
       "1              0               0                    0   \n",
       "2              0               0                    1   \n",
       "3              0               1                    0   \n",
       "4              0               1                    0   \n",
       "\n",
       "   Airline_Jet Airways Business  Airline_Multiple carriers  \\\n",
       "0                             0                          0   \n",
       "1                             0                          0   \n",
       "2                             0                          0   \n",
       "3                             0                          0   \n",
       "4                             0                          0   \n",
       "\n",
       "   Airline_Multiple carriers Premium economy  ...  Destination_New Delhi  \\\n",
       "0                                          0  ...                      1   \n",
       "1                                          0  ...                      0   \n",
       "2                                          0  ...                      0   \n",
       "3                                          0  ...                      0   \n",
       "4                                          0  ...                      1   \n",
       "\n",
       "   Route_updated_BOM →HYD  Route_updated_CCU →BLR  Route_updated_DEL →COK  \\\n",
       "0                       0                       0                       0   \n",
       "1                       0                       1                       0   \n",
       "2                       0                       0                       1   \n",
       "3                       0                       1                       0   \n",
       "4                       0                       0                       0   \n",
       "\n",
       "   Route_updated_MAA →CCU  Route_updated_nannan  Total_Stops_2 stops  \\\n",
       "0                       0                     0                    0   \n",
       "1                       0                     0                    1   \n",
       "2                       0                     0                    1   \n",
       "3                       0                     0                    0   \n",
       "4                       0                     0                    0   \n",
       "\n",
       "   Total_Stops_3 stops  Total_Stops_4 stops  Total_Stops_non-stop  \n",
       "0                    0                    0                     1  \n",
       "1                    0                    0                     0  \n",
       "2                    0                    0                     0  \n",
       "3                    0                    0                     0  \n",
       "4                    0                    0                     0  \n",
       "\n",
       "[5 rows x 32 columns]"
      ]
     },
     "execution_count": 19,
     "metadata": {},
     "output_type": "execute_result"
    }
   ],
   "source": [
    "data_preprocessed.head()"
   ]
  },
  {
   "cell_type": "markdown",
   "metadata": {},
   "source": [
    "## Model:"
   ]
  },
  {
   "cell_type": "code",
   "execution_count": 20,
   "metadata": {},
   "outputs": [],
   "source": [
    "## Train Test Split....\n",
    "from sklearn.model_selection import train_test_split\n",
    "x_train , x_test , y_train , y_test = train_test_split(data_preprocessed.drop('Price' , axis = 1) , data_preprocessed['Price'] \n",
    "                                                       , test_size = 0.2 , random_state = 23)"
   ]
  },
  {
   "cell_type": "markdown",
   "metadata": {},
   "source": [
    "### Random Forest Regressor:"
   ]
  },
  {
   "cell_type": "code",
   "execution_count": 21,
   "metadata": {},
   "outputs": [],
   "source": [
    "from sklearn.ensemble import RandomForestRegressor\n",
    "rf_reg = RandomForestRegressor()"
   ]
  },
  {
   "cell_type": "code",
   "execution_count": 22,
   "metadata": {},
   "outputs": [],
   "source": [
    "## Apply Hyperparameter Tunning....\n",
    "from sklearn.model_selection import GridSearchCV\n",
    "\n",
    "n_estimators = [100 , 150 , 200 , 250]\n",
    "criterion = [\"mse\"]\n",
    "max_depth = [5 , 7 , 9 , 11]\n",
    "min_samples_split = [int(x) for x in np.linspace(2 , 10 , 5)]\n",
    "min_samples_leaf = [int(x) for x in np.linspace(2 , 10 , 5)]\n",
    "max_features = [\"auto\", \"sqrt\"]\n",
    "max_leaf_nodes = [int(x) for x in np.linspace(10 , 40 , 5)]\n",
    "\n",
    "\n",
    "para_dics = {'n_estimators':n_estimators , 'criterion':criterion , 'max_depth':max_depth , \n",
    "             'min_samples_split':min_samples_split , 'min_samples_leaf':min_samples_leaf , 'max_features':max_features , \n",
    "            'max_leaf_nodes':max_leaf_nodes}"
   ]
  },
  {
   "cell_type": "code",
   "execution_count": 23,
   "metadata": {},
   "outputs": [
    {
     "name": "stdout",
     "output_type": "stream",
     "text": [
      "Fitting 2 folds for each of 4000 candidates, totalling 8000 fits\n"
     ]
    },
    {
     "name": "stderr",
     "output_type": "stream",
     "text": [
      "[Parallel(n_jobs=-1)]: Using backend LokyBackend with 8 concurrent workers.\n",
      "[Parallel(n_jobs=-1)]: Done  25 tasks      | elapsed:    8.2s\n",
      "[Parallel(n_jobs=-1)]: Done 146 tasks      | elapsed:   27.4s\n",
      "[Parallel(n_jobs=-1)]: Done 349 tasks      | elapsed:  1.1min\n",
      "[Parallel(n_jobs=-1)]: Done 632 tasks      | elapsed:  2.0min\n",
      "[Parallel(n_jobs=-1)]: Done 997 tasks      | elapsed:  3.2min\n",
      "[Parallel(n_jobs=-1)]: Done 1442 tasks      | elapsed:  3.8min\n",
      "[Parallel(n_jobs=-1)]: Done 1969 tasks      | elapsed:  4.5min\n",
      "[Parallel(n_jobs=-1)]: Done 2576 tasks      | elapsed:  6.3min\n",
      "[Parallel(n_jobs=-1)]: Done 3265 tasks      | elapsed:  8.3min\n",
      "[Parallel(n_jobs=-1)]: Done 4034 tasks      | elapsed:  9.5min\n",
      "[Parallel(n_jobs=-1)]: Done 4885 tasks      | elapsed: 12.5min\n",
      "[Parallel(n_jobs=-1)]: Done 5816 tasks      | elapsed: 14.3min\n",
      "[Parallel(n_jobs=-1)]: Done 6829 tasks      | elapsed: 17.9min\n",
      "[Parallel(n_jobs=-1)]: Done 7922 tasks      | elapsed: 20.3min\n",
      "[Parallel(n_jobs=-1)]: Done 8000 out of 8000 | elapsed: 20.5min finished\n"
     ]
    },
    {
     "data": {
      "text/plain": [
       "GridSearchCV(cv=2, estimator=RandomForestRegressor(), n_jobs=-1,\n",
       "             param_grid={'criterion': ['mse'], 'max_depth': [5, 7, 9, 11],\n",
       "                         'max_features': ['auto', 'sqrt'],\n",
       "                         'max_leaf_nodes': [10, 17, 25, 32, 40],\n",
       "                         'min_samples_leaf': [2, 4, 6, 8, 10],\n",
       "                         'min_samples_split': [2, 4, 6, 8, 10],\n",
       "                         'n_estimators': [100, 150, 200, 250]},\n",
       "             scoring='neg_mean_squared_error', verbose=2)"
      ]
     },
     "execution_count": 23,
     "metadata": {},
     "output_type": "execute_result"
    }
   ],
   "source": [
    "grid_search = GridSearchCV(estimator = rf_reg, param_grid = para_dics , scoring='neg_mean_squared_error', \n",
    "                           cv=2, n_jobs=-1 , verbose=2)\n",
    "grid_search.fit(x_train , y_train)"
   ]
  },
  {
   "cell_type": "code",
   "execution_count": 24,
   "metadata": {
    "scrolled": true
   },
   "outputs": [
    {
     "name": "stdout",
     "output_type": "stream",
     "text": [
      "Best Parameters are:\n",
      " {'criterion': 'mse', 'max_depth': 9, 'max_features': 'auto', 'max_leaf_nodes': 40, 'min_samples_leaf': 2, 'min_samples_split': 4, 'n_estimators': 100}\n",
      "\n",
      "Best Score obtained: -7673503.902059046\n"
     ]
    }
   ],
   "source": [
    "print(\"Best Parameters are:\\n\" , grid_search.best_params_)\n",
    "print(\"\\nBest Score obtained:\" , grid_search.best_score_)"
   ]
  },
  {
   "cell_type": "code",
   "execution_count": 25,
   "metadata": {},
   "outputs": [
    {
     "name": "stdout",
     "output_type": "stream",
     "text": [
      "Train Accuracy of Hyper tunned model: 0.6986445465538357\n",
      "Test Accuracy of Hyper tunned model: 0.6485630651553579\n",
      "\n",
      "RMSE of train data is : 2528.382673807783\n",
      "RMSE of test data is : 2746.027635921811\n"
     ]
    }
   ],
   "source": [
    "estmator_1 = grid_search.best_estimator_\n",
    "print(\"Train Accuracy of Hyper tunned model:\" , estmator_1.score(x_train , y_train))\n",
    "print(\"Test Accuracy of Hyper tunned model:\" , estmator_1.score(x_test , y_test))\n",
    "print(\"\\nRMSE of train data is :\" , np.sqrt(metrics.mean_squared_error(y_train , estmator_1.predict(x_train))))\n",
    "print(\"RMSE of test data is :\" , np.sqrt(metrics.mean_squared_error(y_test , estmator_1.predict(x_test))))"
   ]
  },
  {
   "cell_type": "code",
   "execution_count": 26,
   "metadata": {},
   "outputs": [
    {
     "data": {
      "text/plain": [
       "(0.0, 60000.0)"
      ]
     },
     "execution_count": 26,
     "metadata": {},
     "output_type": "execute_result"
    },
    {
     "data": {
      "image/png": "[encoded data removed]",
      "text/plain": [
       "<Figure size 1320x330 with 2 Axes>"
      ]
     },
     "metadata": {
      "needs_background": "light"
     },
     "output_type": "display_data"
    }
   ],
   "source": [
    "## plotting Train data....\n",
    "## More concentration on red line -> More the model accuracy.\n",
    "plt.figure(dpi = 110 , figsize = (12 , 3))\n",
    "plt.subplot(1,2,1)\n",
    "plt.scatter(x = y_train , y = estmator_1.predict(x_train))\n",
    "plt.plot([0, 60000] , [0 , 60000] , '-' , linewidth=2 , color = 'r')\n",
    "plt.title(\"Train Data\" , fontsize = 15)\n",
    "plt.xlabel(\"Actual data points\" , fontsize = 12)\n",
    "plt.ylabel(\"Predicted data points\" , fontsize = 12)\n",
    "plt.xlim(0 , 60000)\n",
    "plt.ylim(0 , 60000)\n",
    "\n",
    "## plotting Test results....\n",
    "## More concentration on red line -> More the model accuracy.\n",
    "plt.subplot(1,2,2)\n",
    "plt.scatter(x = y_test , y = estmator_1.predict(x_test))\n",
    "plt.plot([0, 60000] , [0 , 60000] , '-' , linewidth=2 , color = 'r')\n",
    "plt.title(\"Test Data\" , fontsize = 15)\n",
    "plt.xlabel(\"Actual data points\" , fontsize = 12)\n",
    "plt.ylabel(\"Predicted data points\" , fontsize = 12)\n",
    "plt.xlim(0 , 60000)\n",
    "plt.ylim(0 , 60000)"
   ]
  },
  {
   "cell_type": "markdown",
   "metadata": {},
   "source": [
    "---\n",
    "\n",
    "### Gradient Boosting Regressor:"
   ]
  },
  {
   "cell_type": "code",
   "execution_count": 27,
   "metadata": {},
   "outputs": [],
   "source": [
    "from sklearn.ensemble import GradientBoostingRegressor\n",
    "\n",
    "gb_reg = GradientBoostingRegressor()"
   ]
  },
  {
   "cell_type": "code",
   "execution_count": 28,
   "metadata": {},
   "outputs": [],
   "source": [
    "## Apply Hyperparameter Tunning....\n",
    "from sklearn.model_selection import GridSearchCV\n",
    "\n",
    "learning_rate = [0.1 , 0.05]\n",
    "n_estimators = [350 , 400 , 450 , 500 , 550]\n",
    "criterion = ['friedman_mse', 'mse']\n",
    "max_depth = [5 , 7 , 9 , 11 , 12]\n",
    "max_features = [\"auto\", \"sqrt\"]\n",
    "max_leaf_nodes = [int(x) for x in np.linspace(10 , 40 , 5)]\n",
    "\n",
    "para_dics_gb = {'learning_rate':learning_rate , 'n_estimators':n_estimators , 'criterion':criterion , 'max_depth':max_depth , \n",
    "                'max_features':max_features , 'max_leaf_nodes':max_leaf_nodes}"
   ]
  },
  {
   "cell_type": "code",
   "execution_count": 29,
   "metadata": {},
   "outputs": [
    {
     "name": "stdout",
     "output_type": "stream",
     "text": [
      "Fitting 2 folds for each of 1000 candidates, totalling 2000 fits\n"
     ]
    },
    {
     "name": "stderr",
     "output_type": "stream",
     "text": [
      "[Parallel(n_jobs=-1)]: Using backend LokyBackend with 8 concurrent workers.\n",
      "[Parallel(n_jobs=-1)]: Done  25 tasks      | elapsed:   15.5s\n",
      "[Parallel(n_jobs=-1)]: Done 146 tasks      | elapsed:  1.0min\n",
      "[Parallel(n_jobs=-1)]: Done 349 tasks      | elapsed:  2.2min\n",
      "[Parallel(n_jobs=-1)]: Done 632 tasks      | elapsed:  3.9min\n",
      "[Parallel(n_jobs=-1)]: Done 997 tasks      | elapsed:  6.1min\n",
      "[Parallel(n_jobs=-1)]: Done 1442 tasks      | elapsed:  9.0min\n",
      "[Parallel(n_jobs=-1)]: Done 1969 tasks      | elapsed: 13.4min\n",
      "[Parallel(n_jobs=-1)]: Done 2000 out of 2000 | elapsed: 13.6min finished\n"
     ]
    },
    {
     "data": {
      "text/plain": [
       "GridSearchCV(cv=2, estimator=GradientBoostingRegressor(), n_jobs=-1,\n",
       "             param_grid={'criterion': ['friedman_mse', 'mse'],\n",
       "                         'learning_rate': [0.1, 0.05],\n",
       "                         'max_depth': [5, 7, 9, 11, 12],\n",
       "                         'max_features': ['auto', 'sqrt'],\n",
       "                         'max_leaf_nodes': [10, 17, 25, 32, 40],\n",
       "                         'n_estimators': [350, 400, 450, 500, 550]},\n",
       "             scoring='neg_mean_squared_error', verbose=2)"
      ]
     },
     "execution_count": 29,
     "metadata": {},
     "output_type": "execute_result"
    }
   ],
   "source": [
    "grid_search_gb = GridSearchCV(estimator = gb_reg, param_grid = para_dics_gb , scoring='neg_mean_squared_error', \n",
    "                           cv=2, n_jobs=-1 , verbose=2)\n",
    "grid_search_gb.fit(x_train , y_train)"
   ]
  },
  {
   "cell_type": "code",
   "execution_count": 30,
   "metadata": {
    "scrolled": true
   },
   "outputs": [
    {
     "name": "stdout",
     "output_type": "stream",
     "text": [
      "Best Parameters are: {'criterion': 'friedman_mse', 'learning_rate': 0.1, 'max_depth': 9, 'max_features': 'sqrt', 'max_leaf_nodes': 10, 'n_estimators': 550}\n",
      "\n",
      "Best Score obtained: -6379786.628283859\n"
     ]
    }
   ],
   "source": [
    "print(\"Best Parameters are:\" , grid_search_gb.best_params_)\n",
    "print(\"\\nBest Score obtained:\" , grid_search_gb.best_score_)"
   ]
  },
  {
   "cell_type": "code",
   "execution_count": 31,
   "metadata": {},
   "outputs": [
    {
     "name": "stdout",
     "output_type": "stream",
     "text": [
      "Train Accuracy of Hyper tunned model: 0.7700068547413219\n",
      "Test Accuracy of Hyper tunned model: 0.69111461087803\n",
      "\n",
      "RMSE of train data is : 2208.8220256310556\n",
      "RMSE of test data is : 2574.4228728540943\n"
     ]
    }
   ],
   "source": [
    "estmator_2 = grid_search_gb.best_estimator_\n",
    "print(\"Train Accuracy of Hyper tunned model:\" , estmator_2.score(x_train , y_train))\n",
    "print(\"Test Accuracy of Hyper tunned model:\" , estmator_2.score(x_test , y_test))\n",
    "print(\"\\nRMSE of train data is :\" , np.sqrt(metrics.mean_squared_error(y_train , estmator_2.predict(x_train))))\n",
    "print(\"RMSE of test data is :\" , np.sqrt(metrics.mean_squared_error(y_test , estmator_2.predict(x_test))))"
   ]
  },
  {
   "cell_type": "code",
   "execution_count": 32,
   "metadata": {},
   "outputs": [
    {
     "data": {
      "text/plain": [
       "(0.0, 60000.0)"
      ]
     },
     "execution_count": 32,
     "metadata": {},
     "output_type": "execute_result"
    },
    {
     "data": {
      "image/png": "[encoded data removed]",
      "text/plain": [
       "<Figure size 1320x330 with 2 Axes>"
      ]
     },
     "metadata": {
      "needs_background": "light"
     },
     "output_type": "display_data"
    }
   ],
   "source": [
    "## plotting Train data....\n",
    "## More concentration on red line -> More the model accuracy.\n",
    "plt.figure(dpi = 110 , figsize = (12 , 3))\n",
    "plt.subplot(1,2,1)\n",
    "plt.scatter(x = y_train , y = estmator_2.predict(x_train))\n",
    "plt.plot([0, 60000] , [0 , 60000] , '-' , linewidth=2 , color = 'r')\n",
    "plt.title(\"Train Data\" , fontsize = 15)\n",
    "plt.xlabel(\"Actual data points\" , fontsize = 12)\n",
    "plt.ylabel(\"Predicted data points\" , fontsize = 12)\n",
    "plt.xlim(0 , 60000)\n",
    "plt.ylim(0 , 60000)\n",
    "\n",
    "## plotting Test results....\n",
    "## More concentration on red line -> More the model accuracy.\n",
    "plt.subplot(1,2,2)\n",
    "plt.scatter(x = y_test , y = estmator_2.predict(x_test))\n",
    "plt.plot([0, 60000] , [0 , 60000] , '-' , linewidth=2 , color = 'r')\n",
    "plt.title(\"Test Data\" , fontsize = 15)\n",
    "plt.xlabel(\"Actual data points\" , fontsize = 12)\n",
    "plt.ylabel(\"Predicted data points\" , fontsize = 12)\n",
    "plt.xlim(0 , 60000)\n",
    "plt.ylim(0 , 60000)"
   ]
  },
  {
   "cell_type": "markdown",
   "metadata": {},
   "source": [
    "---\n",
    "### We can adopt Gradient Boosting  Regression Technique for its improved performance.\n",
    "\n",
    "---"
   ]
  }
 ],
 "metadata": {
  "kernelspec": {
   "display_name": "Python 3",
   "language": "python",
   "name": "python3"
  },
  "language_info": {
   "codemirror_mode": {
    "name": "ipython",
    "version": 3
   },
   "file_extension": ".py",
   "mimetype": "text/x-python",
   "name": "python",
   "nbconvert_exporter": "python",
   "pygments_lexer": "ipython3",
   "version": "3.7.4"
  }
 },
 "nbformat": 4,
 "nbformat_minor": 2
}
